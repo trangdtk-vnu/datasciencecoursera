{
  "nbformat": 4,
  "nbformat_minor": 0,
  "metadata": {
    "colab": {
      "provenance": [],
      "authorship_tag": "ABX9TyMh3Q/sdusP4Dxcz42MGR9T",
      "include_colab_link": true
    },
    "kernelspec": {
      "name": "python3",
      "display_name": "Python 3"
    },
    "language_info": {
      "name": "python"
    }
  },
  "cells": [
    {
      "cell_type": "markdown",
      "metadata": {
        "id": "view-in-github",
        "colab_type": "text"
      },
      "source": [
        "<a href=\"https://colab.research.google.com/github/trangdtk-vnu/datasciencecoursera/blob/master/Coursera_Project_Network_Clean_and_analyze_social_media_usage_data_with_Python.ipynb\" target=\"_parent\"><img src=\"https://colab.research.google.com/assets/colab-badge.svg\" alt=\"Open In Colab\"/></a>"
      ]
    },
    {
      "cell_type": "markdown",
      "source": [
        "# Import required libraries"
      ],
      "metadata": {
        "id": "jR7rfzIwYk8H"
      }
    },
    {
      "cell_type": "code",
      "execution_count": 30,
      "metadata": {
        "id": "bYStX4MVYQ6G"
      },
      "outputs": [],
      "source": [
        "import pandas as pd\n",
        "import matplotlib.pyplot as plt\n",
        "import seaborn as sns\n",
        "import numpy as np\n",
        "import random"
      ]
    },
    {
      "cell_type": "markdown",
      "source": [
        "# Generate random data for the social media data"
      ],
      "metadata": {
        "id": "SwtYhH9grpPh"
      }
    },
    {
      "cell_type": "code",
      "source": [
        "# Define list of categories\n",
        "categories = ['Food', 'Travel', 'Fashion', 'Fitness', 'Music', 'Culture', 'Family', 'Health']\n",
        "\n",
        "# Generate random data\n",
        "n = 1000  # Number of data points\n",
        "data = {\n",
        "    'Date': pd.date_range('2021-01-01', periods=n),\n",
        "    'Category': [random.choice(categories) for _ in range(n)],\n",
        "    'Likes': np.random.randint(0, 10000, size=n)\n",
        "}\n",
        "\n",
        "# Create DataFrame\n",
        "df = pd.DataFrame(data)\n",
        "\n",
        "# Display the generated DataFrame\n",
        "print(df.head())"
      ],
      "metadata": {
        "colab": {
          "base_uri": "https://localhost:8080/"
        },
        "id": "2wnHJSVurQ4M",
        "outputId": "13fb04db-e993-4623-dcfe-3c1dc644650e"
      },
      "execution_count": 31,
      "outputs": [
        {
          "output_type": "stream",
          "name": "stdout",
          "text": [
            "        Date Category  Likes\n",
            "0 2021-01-01  Fitness   5615\n",
            "1 2021-01-02  Culture    132\n",
            "2 2021-01-03  Fitness   2083\n",
            "3 2021-01-04  Culture   1091\n",
            "4 2021-01-05     Food   9562\n"
          ]
        }
      ]
    },
    {
      "cell_type": "markdown",
      "source": [
        "# Load the data into a Pandas DataFrame and Explore the data"
      ],
      "metadata": {
        "id": "zqjpW1DrruBD"
      }
    },
    {
      "cell_type": "code",
      "source": [
        "# Load the randomly generated data into a pandas DataFrame\n",
        "df = pd.DataFrame(data)\n",
        "\n",
        "# Print the DataFrame head\n",
        "print(\"DataFrame Head:\")\n",
        "print(df.head())\n",
        "\n",
        "# Print the DataFrame information\n",
        "print(\"\\nDataFrame Information:\")\n",
        "print(df.info())\n",
        "\n",
        "# Print the DataFrame description\n",
        "print(\"\\nDataFrame Description:\")\n",
        "print(df.describe())\n",
        "\n",
        "# Print the count of each 'Category' element\n",
        "category_counts = df['Category'].value_counts()\n",
        "print(\"\\nCount of each 'Category' element:\")\n",
        "print(category_counts)"
      ],
      "metadata": {
        "colab": {
          "base_uri": "https://localhost:8080/"
        },
        "id": "T1dhrwQarnHc",
        "outputId": "4b020d5e-c673-45b0-d483-404ec6b01ae6"
      },
      "execution_count": 32,
      "outputs": [
        {
          "output_type": "stream",
          "name": "stdout",
          "text": [
            "DataFrame Head:\n",
            "        Date Category  Likes\n",
            "0 2021-01-01  Fitness   5615\n",
            "1 2021-01-02  Culture    132\n",
            "2 2021-01-03  Fitness   2083\n",
            "3 2021-01-04  Culture   1091\n",
            "4 2021-01-05     Food   9562\n",
            "\n",
            "DataFrame Information:\n",
            "<class 'pandas.core.frame.DataFrame'>\n",
            "RangeIndex: 1000 entries, 0 to 999\n",
            "Data columns (total 3 columns):\n",
            " #   Column    Non-Null Count  Dtype         \n",
            "---  ------    --------------  -----         \n",
            " 0   Date      1000 non-null   datetime64[ns]\n",
            " 1   Category  1000 non-null   object        \n",
            " 2   Likes     1000 non-null   int64         \n",
            "dtypes: datetime64[ns](1), int64(1), object(1)\n",
            "memory usage: 23.6+ KB\n",
            "None\n",
            "\n",
            "DataFrame Description:\n",
            "             Likes\n",
            "count  1000.000000\n",
            "mean   4967.641000\n",
            "std    2920.650094\n",
            "min      11.000000\n",
            "25%    2448.250000\n",
            "50%    4922.500000\n",
            "75%    7560.500000\n",
            "max    9996.000000\n",
            "\n",
            "Count of each 'Category' element:\n",
            "Travel     143\n",
            "Fitness    142\n",
            "Food       138\n",
            "Health     133\n",
            "Culture    127\n",
            "Fashion    123\n",
            "Family     105\n",
            "Music       89\n",
            "Name: Category, dtype: int64\n"
          ]
        }
      ]
    },
    {
      "cell_type": "markdown",
      "source": [
        "# Clean the data"
      ],
      "metadata": {
        "id": "LvNxLpUlsNSk"
      }
    },
    {
      "cell_type": "code",
      "source": [
        "# Remove null values\n",
        "df.dropna(inplace=True)\n",
        "\n",
        "# Remove duplicate data\n",
        "df.drop_duplicates(inplace=True)\n",
        "\n",
        "# Convert 'Date' field to datetime format\n",
        "df['Date'] = pd.to_datetime(df['Date'])\n",
        "\n",
        "# Convert 'Likes' data to integer\n",
        "df['Likes'] = df['Likes'].astype(int)\n",
        "\n",
        "# Display the cleaned DataFrame\n",
        "print(\"Cleaned DataFrame:\")\n",
        "print(df.head())"
      ],
      "metadata": {
        "colab": {
          "base_uri": "https://localhost:8080/"
        },
        "id": "_RMc6nCEsRfq",
        "outputId": "b27db7d1-4d4c-4220-81da-bdbf09945a5e"
      },
      "execution_count": 33,
      "outputs": [
        {
          "output_type": "stream",
          "name": "stdout",
          "text": [
            "Cleaned DataFrame:\n",
            "        Date Category  Likes\n",
            "0 2021-01-01  Fitness   5615\n",
            "1 2021-01-02  Culture    132\n",
            "2 2021-01-03  Fitness   2083\n",
            "3 2021-01-04  Culture   1091\n",
            "4 2021-01-05     Food   9562\n"
          ]
        }
      ]
    },
    {
      "cell_type": "markdown",
      "source": [
        "# Visualize and Analyze the data"
      ],
      "metadata": {
        "id": "h_yQRd77sgHS"
      }
    },
    {
      "cell_type": "code",
      "source": [
        "# Visualize data using a histogram plot\n",
        "sns.histplot(df['Likes'])\n",
        "plt.title('Histogram of Likes')\n",
        "plt.xlabel('Likes')\n",
        "plt.ylabel('Frequency')\n",
        "plt.show()"
      ],
      "metadata": {
        "colab": {
          "base_uri": "https://localhost:8080/",
          "height": 472
        },
        "id": "OyGjtwsusjfy",
        "outputId": "d3f10d10-b5a2-4f82-ca32-a5a9affbb3c5"
      },
      "execution_count": 38,
      "outputs": [
        {
          "output_type": "display_data",
          "data": {
            "text/plain": [
              "<Figure size 640x480 with 1 Axes>"
            ],
            "image/png": "[encoded data removed]"
          },
          "metadata": {}
        }
      ]
    },
    {
      "cell_type": "code",
      "source": [
        "# Create a boxplot\n",
        "sns.boxplot(x='Category', y='Likes', data=df)\n",
        "plt.title('Boxplot of Likes by Category')\n",
        "plt.show()"
      ],
      "metadata": {
        "colab": {
          "base_uri": "https://localhost:8080/",
          "height": 472
        },
        "id": "p8GV5ZJFs0E3",
        "outputId": "3150398f-77fa-412b-e3a3-7fee65236b72"
      },
      "execution_count": 35,
      "outputs": [
        {
          "output_type": "display_data",
          "data": {
            "text/plain": [
              "<Figure size 640x480 with 1 Axes>"
            ],
            "image/png": "[encoded data removed]"
          },
          "metadata": {}
        }
      ]
    },
    {
      "cell_type": "code",
      "source": [
        "# Perform statistics on the data\n",
        "# Print the mean of the 'Likes' category\n",
        "print(\"\\nMean Likes:\", df['Likes'].mean())"
      ],
      "metadata": {
        "colab": {
          "base_uri": "https://localhost:8080/"
        },
        "id": "wZOH4YKws2NJ",
        "outputId": "36eb446d-f4c0-4864-d029-60780401e7b9"
      },
      "execution_count": 36,
      "outputs": [
        {
          "output_type": "stream",
          "name": "stdout",
          "text": [
            "\n",
            "Mean Likes: 4967.641\n"
          ]
        }
      ]
    },
    {
      "cell_type": "code",
      "source": [
        "# Print the mean of each Category 'Likes' using groupby\n",
        "category_likes_mean = df.groupby('Category')['Likes'].mean()\n",
        "print(\"\\nMean Likes by Category:\")\n",
        "print(category_likes_mean)"
      ],
      "metadata": {
        "colab": {
          "base_uri": "https://localhost:8080/"
        },
        "id": "AhZ7KGF7s7my",
        "outputId": "281ce88e-ade9-4816-ae99-518f8d424404"
      },
      "execution_count": 37,
      "outputs": [
        {
          "output_type": "stream",
          "name": "stdout",
          "text": [
            "\n",
            "Mean Likes by Category:\n",
            "Category\n",
            "Culture    5631.677165\n",
            "Family     5168.980952\n",
            "Fashion    5187.040650\n",
            "Fitness    4702.978873\n",
            "Food       5057.340580\n",
            "Health     4696.984962\n",
            "Music      4927.595506\n",
            "Travel     4494.251748\n",
            "Name: Likes, dtype: float64\n"
          ]
        }
      ]
    },
    {
      "cell_type": "markdown",
      "source": [
        "# Describe Conclusions"
      ],
      "metadata": {
        "id": "HHLyeV8ptEYp"
      }
    },
    {
      "cell_type": "markdown",
      "source": [
        "**Conclusion:**\n",
        "\n",
        "In undertaking this social media analytics project, I employed a systematic approach to data extraction, cleaning, analysis, and visualization. While simulating the data collection process due to constraints on accessing real-time Twitter data with a free-tier account, I effectively demonstrated adaptability and problem-solving skills by generating synthetic data for a comprehensive analysis. This project offers valuable insights into user engagement across different content categories, providing a basis for data-driven recommendations.\n",
        "\n",
        "**Key Findings:**\n",
        "\n",
        "1. **Synthetic Data Generation:**\n",
        "   - Leveraging the constraints of a free-tier Twitter Developer account, I successfully simulated the data collection process by generating random tweet data. This showcased creativity and adaptability in addressing limitations.\n",
        "\n",
        "2. **Comprehensive Data Analysis:**\n",
        "   - The project encompassed a range of tasks, including data cleaning, exploratory data analysis (EDA), and statistical analysis. I employed Seaborn and Matplotlib for insightful visualizations, providing a clear overview of the 'Likes' distribution across categories.\n",
        "\n",
        "3. **Mean Likes by Category:**\n",
        "   - The key finding of mean likes by category revealed interesting insights into user engagement. Categories like Culture, Family, and Fashion emerged as high performers, with above-average mean likes, offering actionable recommendations for content strategy.\n",
        "\n",
        "**What Sets This Portfolio Project Apart:**\n",
        "\n",
        "1. **Holistic Approach:**\n",
        "   - The project covers a broad spectrum of data science tasks, from data generation to visualization and statistical analysis. This holistic approach reflects a well-rounded skill set in data analysis.\n",
        "\n",
        "2. **Demonstration of Insights:**\n",
        "   - The interpretation of results and actionable recommendations based on mean likes by category reflects a deeper level of critical thinking. It's not just about analyzing data but also drawing meaningful conclusions and providing strategic insights.\n",
        "\n",
        "**Strengths and Contributions:**\n",
        "\n",
        "- **Adaptability:** Demonstrated the ability to adapt to challenges, ensuring the project's continuity despite limitations.\n",
        "- **Holistic Skill Set:** Showcased proficiency in data cleaning, visualization, statistical analysis, and effective communication.\n",
        "- **Real-world Relevance:** The project mirrors real-world scenarios, offering practical solutions that can be applied in a social media marketing context.\n",
        "\n",
        "**Future Improvements:**\n",
        "\n",
        "- **Integration with Real Data:** The project can be enhanced by integrating with real Twitter data when access is available, providing more authentic insights.\n",
        "- **Advanced Statistical Techniques:** Exploring advanced statistical techniques and machine learning models could further enhance the depth of analysis and predictions.\n",
        "\n",
        "**In summary, this project demonstrates not only technical proficiency but also the ability to approach data science challenges creatively and provide actionable insights. The combination of technical skills, critical thinking, and effective communication sets this portfolio project apart, showcasing its relevance and impact in a business context.**"
      ],
      "metadata": {
        "id": "XoGwEFpwtxeO"
      }
    }
  ]
}